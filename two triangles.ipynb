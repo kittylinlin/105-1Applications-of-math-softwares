{
 "cells": [
  {
   "cell_type": "markdown",
   "metadata": {},
   "source": [
    "## Practice for loop and print"
   ]
  },
  {
   "cell_type": "code",
   "execution_count": 2,
   "metadata": {
    "collapsed": false
   },
   "outputs": [
    {
     "name": "stdout",
     "output_type": "stream",
     "text": [
      "How many layers of stars do you want?\n",
      "(please enter an odd number)\n",
      "31\n"
     ]
    }
   ],
   "source": [
    "a = input('How many layers of stars do you want?\\n(please enter an odd number)\\n')"
   ]
  },
  {
   "cell_type": "code",
   "execution_count": 3,
   "metadata": {
    "collapsed": false
   },
   "outputs": [
    {
     "name": "stdout",
     "output_type": "stream",
     "text": [
      "*******************************\n",
      " *****************************\n",
      "  ***************************\n",
      "   *************************\n",
      "    ***********************\n",
      "     *********************\n",
      "      *******************\n",
      "       *****************\n",
      "        ***************\n",
      "         *************\n",
      "          ***********\n",
      "           *********\n",
      "            *******\n",
      "             *****\n",
      "              ***\n",
      "               *\n",
      "              ***\n",
      "             *****\n",
      "            *******\n",
      "           *********\n",
      "          ***********\n",
      "         *************\n",
      "        ***************\n",
      "       *****************\n",
      "      *******************\n",
      "     *********************\n",
      "    ***********************\n",
      "   *************************\n",
      "  ***************************\n",
      " *****************************\n",
      "*******************************\n"
     ]
    }
   ],
   "source": [
    "num = int(a)\n",
    "temp = int((num+1)/2)\n",
    "for i in range(0,num):\n",
    "    if i < temp:\n",
    "        print(' '*i+'*'*(num-2*i))\n",
    "    else:\n",
    "        print(' '*(num-i-1)+'*'*((i-temp+1)*2+1))"
   ]
  },
  {
   "cell_type": "code",
   "execution_count": null,
   "metadata": {
    "collapsed": true
   },
   "outputs": [],
   "source": []
  }
 ],
 "metadata": {
  "kernelspec": {
   "display_name": "Python 3",
   "language": "python",
   "name": "python3"
  },
  "language_info": {
   "codemirror_mode": {
    "name": "ipython",
    "version": 3
   },
   "file_extension": ".py",
   "mimetype": "text/x-python",
   "name": "python",
   "nbconvert_exporter": "python",
   "pygments_lexer": "ipython3",
   "version": "3.5.2"
  }
 },
 "nbformat": 4,
 "nbformat_minor": 1
}

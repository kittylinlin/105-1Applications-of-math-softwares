{
 "cells": [
  {
   "cell_type": "markdown",
   "metadata": {},
   "source": [
    "## Sexy Primes\n",
    "* Definition: 若一數對$(p,p+6)$皆為質數，則稱此數對為sexy prime pair。 \"Sexy\"源自拉丁文\"six\""
   ]
  },
  {
   "cell_type": "code",
   "execution_count": 1,
   "metadata": {
    "collapsed": true
   },
   "outputs": [],
   "source": [
    "from sympy import *"
   ]
  },
  {
   "cell_type": "code",
   "execution_count": 2,
   "metadata": {
    "collapsed": false
   },
   "outputs": [
    {
     "name": "stdout",
     "output_type": "stream",
     "text": [
      "5 and 11 are sexy prime pairs\n",
      "7 and 13 are sexy prime pairs\n",
      "11 and 17 are sexy prime pairs\n",
      "13 and 19 are sexy prime pairs\n",
      "17 and 23 are sexy prime pairs\n",
      "23 and 29 are sexy prime pairs\n",
      "31 and 37 are sexy prime pairs\n",
      "37 and 43 are sexy prime pairs\n",
      "41 and 47 are sexy prime pairs\n",
      "47 and 53 are sexy prime pairs\n",
      "53 and 59 are sexy prime pairs\n",
      "61 and 67 are sexy prime pairs\n",
      "67 and 73 are sexy prime pairs\n",
      "73 and 79 are sexy prime pairs\n",
      "83 and 89 are sexy prime pairs\n",
      "97 and 103 are sexy prime pairs\n"
     ]
    }
   ],
   "source": [
    "for i in range(100):\n",
    "    if isprime(i) and isprime(i+6):\n",
    "        print('%d and %d are sexy prime pairs' %(i,i+6))"
   ]
  },
  {
   "cell_type": "code",
   "execution_count": null,
   "metadata": {
    "collapsed": true
   },
   "outputs": [],
   "source": []
  }
 ],
 "metadata": {
  "kernelspec": {
   "display_name": "Python 3",
   "language": "python",
   "name": "python3"
  },
  "language_info": {
   "codemirror_mode": {
    "name": "ipython",
    "version": 3
   },
   "file_extension": ".py",
   "mimetype": "text/x-python",
   "name": "python",
   "nbconvert_exporter": "python",
   "pygments_lexer": "ipython3",
   "version": "3.5.2"
  }
 },
 "nbformat": 4,
 "nbformat_minor": 1
}

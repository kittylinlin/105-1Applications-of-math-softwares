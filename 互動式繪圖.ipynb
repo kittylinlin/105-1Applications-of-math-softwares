{
 "cells": [
  {
   "cell_type": "code",
   "execution_count": 1,
   "metadata": {
    "collapsed": true
   },
   "outputs": [],
   "source": [
    "%matplotlib inline\n",
    "import numpy as np\n",
    "import matplotlib.pyplot as plt\n",
    "from ipywidgets import interact_manual"
   ]
  },
  {
   "cell_type": "code",
   "execution_count": 2,
   "metadata": {
    "collapsed": true
   },
   "outputs": [],
   "source": [
    "def f(中文, 英文 ,人文 ,社會 ,自然):\n",
    "    中文 = int(中文)\n",
    "    英文 = int(英文)\n",
    "    人文 = int(人文)\n",
    "    社會 = int(社會)\n",
    "    自然 = int(自然)\n",
    "    最低標準 = np.array([4, 4, 3, 3, 4, 28])\n",
    "    最高標準 = np.array([2, 2, 5, 5, 4, 4])\n",
    "    你的 = np.array([中文, 英文, 人文, 社會, 自然, (中文+英文+人文+社會+自然)])\n",
    "    x = np.arange(1,7)\n",
    "    labels = ['Chinese', 'English' ,'Humanities' ,'Society' ,'Science', 'Total']\n",
    "    plt.bar(x, 最低標準, fc='#FF3333', ec='none', align=\"center\")\n",
    "    plt.bar(x, 最高標準, fc='#99FF33', ec='none', bottom = 最低標準, align=\"center\")\n",
    "    plt.plot(x, 你的, marker='o')\n",
    "    plt.xticks(x, labels)\n",
    "    ax = plt.gca()\n",
    "    ax.set_xlabel('Subject')\n",
    "    ax.set_ylabel('Credit')\n",
    "    危險 = 你的 - 最低標準\n",
    "    for i in range(6):\n",
    "        if 危險[i] < 0:\n",
    "            print('%s學分不足%d' %(labels[i], -危險[i]))"
   ]
  },
  {
   "cell_type": "code",
   "execution_count": 3,
   "metadata": {
    "collapsed": false
   },
   "outputs": [
    {
     "name": "stdout",
     "output_type": "stream",
     "text": [
      "Chinese學分不足3\n",
      "English學分不足3\n",
      "Humanities學分不足2\n",
      "Society學分不足2\n",
      "Science學分不足3\n",
      "Total學分不足23\n"
     ]
    },
    {
     "data": {
      "image/png": "[encoded data removed]",
      "text/plain": [
       "<matplotlib.figure.Figure at 0x104035630>"
      ]
     },
     "metadata": {},
     "output_type": "display_data"
    }
   ],
   "source": [
    "interact_manual(f, 中文='1', 英文='1' ,人文='1' ,社會='1',自然='1');"
   ]
  },
  {
   "cell_type": "code",
   "execution_count": null,
   "metadata": {
    "collapsed": true
   },
   "outputs": [],
   "source": []
  }
 ],
 "metadata": {
  "kernelspec": {
   "display_name": "Python 3",
   "language": "python",
   "name": "python3"
  },
  "language_info": {
   "codemirror_mode": {
    "name": "ipython",
    "version": 3
   },
   "file_extension": ".py",
   "mimetype": "text/x-python",
   "name": "python",
   "nbconvert_exporter": "python",
   "pygments_lexer": "ipython3",
   "version": "3.5.2"
  },
  "widgets": {
   "state": {
    "8a23496443ce448183acd9b7a401c0eb": {
     "views": [
      {
       "cell_index": 2
      }
     ]
    }
   },
   "version": "1.2.0"
  }
 },
 "nbformat": 4,
 "nbformat_minor": 1
}

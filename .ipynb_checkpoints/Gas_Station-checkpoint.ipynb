{
 "cells": [
  {
   "cell_type": "markdown",
   "metadata": {},
   "source": [
    "<div style=\"width:45%;margin:0px auto;\">\n",
    "<p style=\"text-align:center;\">開車或騎車進入加油站</p>\n",
    "<p style=\"text-align:center;\">拿起油槍對準加油孔</p>\n",
    "<p style=\"text-align:center;\">抬頭看著螢幕上的數字不斷地跳動著</p>\n",
    "</div>\n",
    "<hr style=\" border: 0;border-bottom: 1px dashed #ccc;background: #999;width:30%\">\n",
    "<div style=\"width:45%;margin:0px auto;\">\n",
    "<p style=\"text-align:center;\">在油價貴的時候</p>\n",
    "<p style=\"text-align:center;\">什麼事都會斤斤計較</p>\n",
    "<p style=\"text-align:center;\">有沒有想過</p>\n",
    "<p style=\"text-align:center;\">當你想要加100元的油</p>\n",
    "<p style=\"text-align:center;\">是真的100元嗎？？</p>\n",
    "</div>\n",
    "<hr style=\" border: 0;border-bottom: 1px dashed #ccc;background: #999;width:30%\">\n",
    "<div style=\"width:45%;margin:0px auto;\">\n",
    "<p style=\"text-align:center;\">加油站的機器跳表是小數點後四捨五入</p>\n",
    "<p style=\"text-align:center;\">螢幕上顯示100元</p>\n",
    "<p style=\"text-align:center;\">實際上可能為99.5～100.4</p>\n",
    "<p style=\"text-align:center;\">那這中間的差值就悄悄溜走了</p>\n",
    "</div>\n",
    "<hr style=\" border: 0;border-bottom: 1px dashed #ccc;background: #999;width:30%\">\n",
    "<div style=\"width:45%;margin:0px auto;\">\n",
    "<p style=\"text-align:center;\">可是...</p>\n",
    "<p style=\"text-align:center;\">要怎麼按計算機呢？要怎麼跟別人解釋呢？</p>\n",
    "</div>\n",
    "<hr style=\" border: 0;border-bottom: 1px dashed #ccc;background: #999;width:30%\">\n",
    "<div style=\"width:45%;margin:0px auto;\">\n",
    "<p style=\"text-align:center;\">為了節省這些麻煩</p>\n",
    "<p style=\"text-align:center;\">可以利用python把公式寫起來</p>\n",
    "<p style=\"text-align:center;\">甚至製作簡易的加油跳錶板</p>\n",
    "<p style=\"text-align:center;\">只需要輸入油價</p>\n",
    "<p style=\"text-align:center;\">就可以模擬加油站的螢幕</p>\n",
    "</div>"
   ]
  },
  {
   "cell_type": "code",
   "execution_count": 1,
   "metadata": {
    "collapsed": false
   },
   "outputs": [],
   "source": [
    "from ipywidgets import widgets #can use widgets to build interactive GUIs\n",
    "from IPython.display import display"
   ]
  },
  {
   "cell_type": "code",
   "execution_count": 2,
   "metadata": {
    "collapsed": true
   },
   "outputs": [],
   "source": [
    "def minusprice(x): #按下加油button後執行的func\n",
    "    a = float(number.value) #轉型float\n",
    "    a = a - 0.01 #每次加油-0.01公升\n",
    "    number.value = '%.2f' % a #數量取到小數第二位\n",
    "    b = float(unit.value) #轉型float\n",
    "    c = a * b #單價乘上數量\n",
    "    total.value = '%.2f' % c #總價取到小數第二位"
   ]
  },
  {
   "cell_type": "code",
   "execution_count": 4,
   "metadata": {
    "collapsed": false
   },
   "outputs": [],
   "source": [
    "total = widgets.FloatText(description = \"總價(元)： \")\n",
    "display(total)\n",
    "\n",
    "number = widgets.FloatText(description = \"數量(公升)：\", value=0.00)\n",
    "display(number)\n",
    "\n",
    "unit = widgets.FloatText(description = \"單價(元/公升)：\")\n",
    "display(unit)\n",
    "\n",
    "button1 = widgets.Button(description = \"加油\")\n",
    "display(button1)\n",
    "button1.on_click(plusprice) #按下button\n",
    "\n",
    "button2 = widgets.Button(description = \"減油\")\n",
    "display(button2)\n",
    "button2.on_click(minusprice) #按下button"
   ]
  },
  {
   "cell_type": "code",
   "execution_count": 3,
   "metadata": {
    "collapsed": false
   },
   "outputs": [],
   "source": [
    "def plusprice(x): #按下加油button後執行的func\n",
    "    a = float(number.value) #轉型float\n",
    "    a = a + 0.01 #每次加油0.01公升\n",
    "    number.value = '%.2f' % a #數量取到小數第二位\n",
    "    b = float(unit.value) #轉型float\n",
    "    c = a * b #單價乘上數量\n",
    "    total.value = '%.2f' % c #總價取到小數第二位"
   ]
  },
  {
   "cell_type": "code",
   "execution_count": null,
   "metadata": {
    "collapsed": true
   },
   "outputs": [],
   "source": []
  },
  {
   "cell_type": "code",
   "execution_count": null,
   "metadata": {
    "collapsed": true
   },
   "outputs": [],
   "source": []
  },
  {
   "cell_type": "code",
   "execution_count": 11,
   "metadata": {
    "collapsed": true
   },
   "outputs": [],
   "source": [
    "def submit(x): #按下enter\n",
    "    unit.value = text1.value #輸入油價後，其值傳到表格中\n",
    "\n",
    "text1 = widgets.Text(description = \"單價(元/公升)：\")\n",
    "display(text1)\n",
    "text1.on_submit(submit) #按下enter"
   ]
  }
 ],
 "metadata": {
  "kernelspec": {
   "display_name": "Python 3",
   "language": "python",
   "name": "python3"
  },
  "language_info": {
   "codemirror_mode": {
    "name": "ipython",
    "version": 3
   },
   "file_extension": ".py",
   "mimetype": "text/x-python",
   "name": "python",
   "nbconvert_exporter": "python",
   "pygments_lexer": "ipython3",
   "version": "3.5.2"
  }
 },
 "nbformat": 4,
 "nbformat_minor": 1
}

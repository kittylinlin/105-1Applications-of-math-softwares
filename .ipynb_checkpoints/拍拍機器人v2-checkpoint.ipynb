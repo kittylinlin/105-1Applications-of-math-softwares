{
 "cells": [
  {
   "cell_type": "markdown",
   "metadata": {},
   "source": [
    "## 點餐機器人\n",
    "* 參考樂麵屋的菜單"
   ]
  },
  {
   "cell_type": "code",
   "execution_count": 1,
   "metadata": {
    "collapsed": true
   },
   "outputs": [],
   "source": [
    "freq = ['第一次','介紹','差別','推薦']\n",
    "finish = ['不用了','這樣就好','先這樣']\n",
    "taste1 = {1:'豚骨拉麵', 2:'醬油豚骨拉麵', 3:'焦蔥豚骨拉麵', 4:'咖哩拉麵', 5:'豬排咖哩拉麵', 6:'辣辣豚骨拉麵'}\n",
    "taste2 = {1:'小辣', 2:'中辣', 3:'大辣'}\n",
    "taste3 = {1:'濃厚', 2:'中等', 3:'稍淡'}\n",
    "taste4 = {1:'原味', 2:'叉燒'}\n",
    "taste5 = {1:'細麵', 2:'粗麵'}\n",
    "taste6 = {1:'稍硬', 2:'中等', 3:'稍軟'}"
   ]
  },
  {
   "cell_type": "code",
   "execution_count": 2,
   "metadata": {
    "collapsed": true
   },
   "outputs": [],
   "source": [
    "def total(x):\n",
    "    for i in range(len(x)//5):\n",
    "        j = 5*i\n",
    "        if int(x[j])==6:\n",
    "            print('%s：%s的%s%s，麵條為%s的%s'%(chr(65+i),taste2[int(x[j+1])],taste4[int(x[j+2])],taste1[int(x[j])],taste6[int(x[j+4])],taste5[int(x[j+3])]))\n",
    "        else:\n",
    "            print('%s：%s的%s%s，麵條為%s的%s'%(chr(65+i),taste3[int(x[j+1])],taste4[int(x[j+2])],taste1[int(x[j])],taste6[int(x[j+4])],taste5[int(x[j+3])]))"
   ]
  },
  {
   "cell_type": "code",
   "execution_count": 3,
   "metadata": {
    "collapsed": false
   },
   "outputs": [
    {
     "name": "stdout",
     "output_type": "stream",
     "text": [
      "服務生：您好，歡迎光臨，請問幾位？\n",
      "2\n",
      "服務生：2位貴賓這邊請\n",
      "服務生：這是我們的菜單，請您參考一下～～\n",
      "{1: '豚骨拉麵', 2: '醬油豚骨拉麵', 3: '焦蔥豚骨拉麵', 4: '咖哩拉麵', 5: '豬排咖哩拉麵', 6: '辣辣豚骨拉麵'}\n",
      "\n",
      "服務生：請問貴賓今天想品嚐什麼口味？(請填入數字)\n",
      "\tA：2\n",
      "服務生：請問貴賓喜歡{1: '濃厚', 2: '中等', 3: '稍淡'}的湯頭呢(請填入數字或輸入需要的服務)？\n",
      "\tA：3\n",
      "服務生：請問貴賓喜歡{1: '原味', 2: '叉燒'}口味(請填入數字)？\n",
      "\tA：2\n",
      "服務生：請問貴賓喜歡{1: '細麵', 2: '粗麵'}呢？(請填入數字或輸入需要的服務)\n",
      "\tA：2\n",
      "服務生：請問貴賓喜歡{1: '稍硬', 2: '中等', 3: '稍軟'}的麵條呢？(請填入數字或輸入需要的服務)\n",
      "\tA：1\n",
      "服務生：請問還需要什麼服務嗎？\n",
      "\tA：不用了，謝謝\n",
      "\n",
      "服務生：請問貴賓今天想品嚐什麼口味？(請填入數字)\n",
      "\tB：6\n",
      "服務生：請問貴賓喜歡{1: '小辣', 2: '中辣', 3: '大辣'}(請填入數字)？\n",
      "\tB：3\n",
      "服務生：請問貴賓喜歡{1: '原味', 2: '叉燒'}口味(請填入數字)？\n",
      "\tB：2\n",
      "服務生：請問貴賓喜歡{1: '細麵', 2: '粗麵'}呢？(請填入數字或輸入需要的服務)\n",
      "\tB：1\n",
      "服務生：請問貴賓喜歡{1: '稍硬', 2: '中等', 3: '稍軟'}的麵條呢？(請填入數字或輸入需要的服務)\n",
      "\tB：3\n",
      "服務生：請問還需要什麼服務嗎？\n",
      "\tB：不用了\n",
      "\n",
      "服務生：重複一次您的菜單\n",
      "A：稍淡的叉燒醬油豚骨拉麵，麵條為稍硬的粗麵\n",
      "B：大辣的叉燒辣辣豚骨拉麵，麵條為稍軟的細麵\n",
      "服務生：餐點請稍等，如果需要什麼服務再跟我們說一聲\n"
     ]
    }
   ],
   "source": [
    "num = int(input('服務生：您好，歡迎光臨，請問幾位？\\n'))\n",
    "if (num%2) == 0:\n",
    "    print('服務生：%d位貴賓這邊請' %(num))\n",
    "else:\n",
    "    print('服務生：這邊特別位貴賓安排%d人座，讓您坐的比較舒適，這邊請' %(num+1))\n",
    "print('服務生：這是我們的菜單，請您參考一下～～')\n",
    "print(taste1)\n",
    "print()\n",
    "record = []\n",
    "for i in range(num):\n",
    "    mes = input('服務生：請問貴賓今天想品嚐什麼口味？(請填入數字)\\n\\t%s：'%((chr(65+i))))\n",
    "    record.append(mes)\n",
    "    while not any(j in mes for j in finish):\n",
    "        if int(mes) == 6:\n",
    "            mes = input('服務生：請問貴賓喜歡%s(請填入數字)？\\n\\t%s：'%(taste2,chr(65+i)))\n",
    "            record.append(mes)\n",
    "        else :\n",
    "            mes = input('服務生：請問貴賓喜歡%s的湯頭呢(請填入數字或輸入需要的服務)？\\n\\t%s：'%(taste3,chr(65+i)))\n",
    "            if any(j in mes for j in freq):\n",
    "                print('''服務生：濃厚的湯頭是日本人的最愛，味道超濃的經典口味\n",
    "       中等的湯頭香醇順口，如果你第一次來，建議您選擇它\n",
    "       稍淡的湯頭適合口味清淡的您''')\n",
    "                mes = input('服務生：請問貴賓喜歡%s的湯頭呢(請填入數字)？\\n\\t%s：'%(taste3,chr(65+i)))\n",
    "                record.append(mes)\n",
    "            else:\n",
    "                record.append(mes)\n",
    "        mes = input('服務生：請問貴賓喜歡%s口味(請填入數字)？\\n\\t%s：'%(taste4,chr(65+i)))\n",
    "        record.append(mes)\n",
    "        mes = input('服務生：請問貴賓喜歡%s呢？(請填入數字或輸入需要的服務)\\n\\t%s：'%(taste5,chr(65+i)))\n",
    "        if any(j in mes for j in freq):\n",
    "            print('''服務生：細麵直徑約1.6~1.8mm，是豚骨及鹽味拉麵的傳統用麵\n",
    "       粗麵直徑約2.4mm，是富有咬勁的日本拉麵麵條''')\n",
    "            mes = input('服務生：請問貴賓喜歡%s呢？(請填入數字)\\n\\t%s：'%(taste5,chr(65+i)))\n",
    "            record.append(mes)\n",
    "        else:\n",
    "            record.append(mes)\n",
    "        mes = input('服務生：請問貴賓喜歡%s的麵條呢？(請填入數字或輸入需要的服務)\\n\\t%s：'%(taste6,chr(65+i)))\n",
    "        if any(j in mes for j in freq):\n",
    "            print('''服務生：稍硬的麵條是日本人的最愛\n",
    "       中等的麵條適合本地口味\n",
    "       稍軟的麵條，我們會為喜歡軟麵的您多煮一會兒''')\n",
    "            mes = input('服務生：請問貴賓喜歡%s的麵條呢？(請填入數字)\\n\\t%s：'%(taste6,chr(65+i)))\n",
    "            record.append(mes)\n",
    "        else:\n",
    "            record.append(mes)\n",
    "        mes = input('服務生：請問還需要什麼服務嗎？\\n\\t%s：'%(chr(65+i)))\n",
    "    print()\n",
    "print('服務生：重複一次您的菜單')\n",
    "total(record)\n",
    "print('服務生：餐點請稍等，如果需要什麼服務再跟我們說一聲')"
   ]
  },
  {
   "cell_type": "code",
   "execution_count": null,
   "metadata": {
    "collapsed": true
   },
   "outputs": [],
   "source": []
  }
 ],
 "metadata": {
  "kernelspec": {
   "display_name": "Python 3",
   "language": "python",
   "name": "python3"
  },
  "language_info": {
   "codemirror_mode": {
    "name": "ipython",
    "version": 3
   },
   "file_extension": ".py",
   "mimetype": "text/x-python",
   "name": "python",
   "nbconvert_exporter": "python",
   "pygments_lexer": "ipython3",
   "version": "3.5.2"
  }
 },
 "nbformat": 4,
 "nbformat_minor": 1
}

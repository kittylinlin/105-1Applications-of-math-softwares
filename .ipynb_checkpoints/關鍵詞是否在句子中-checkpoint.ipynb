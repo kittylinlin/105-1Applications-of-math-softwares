{
 "cells": [
  {
   "cell_type": "markdown",
   "metadata": {},
   "source": [
    "## Any function\n",
    "    def any(iterable):  \n",
    "        for element in iterable:  \n",
    "            if element:  \n",
    "                return True  \n",
    "        return False"
   ]
  },
  {
   "cell_type": "code",
   "execution_count": null,
   "metadata": {
    "collapsed": true
   },
   "outputs": [],
   "source": [
    "message = input('今天過得如何呀？')\n",
    "sad = [\"悲傷\",\"難過\",\"傷心\"]\n",
    "if any(i in message for i in sad):\n",
    "    print('拍拍～～明天又是新的一天～～')\n",
    "else:\n",
    "    print('恩恩～～')"
   ]
  }
 ],
 "metadata": {
  "kernelspec": {
   "display_name": "Python 3",
   "language": "python",
   "name": "python3"
  },
  "language_info": {
   "codemirror_mode": {
    "name": "ipython",
    "version": 3
   },
   "file_extension": ".py",
   "mimetype": "text/x-python",
   "name": "python",
   "nbconvert_exporter": "python",
   "pygments_lexer": "ipython3",
   "version": "3.5.2"
  }
 },
 "nbformat": 4,
 "nbformat_minor": 1
}

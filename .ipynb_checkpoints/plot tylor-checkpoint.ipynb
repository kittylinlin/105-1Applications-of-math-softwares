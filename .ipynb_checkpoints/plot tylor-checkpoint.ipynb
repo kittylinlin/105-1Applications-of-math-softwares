{
 "cells": [
  {
   "cell_type": "code",
   "execution_count": 1,
   "metadata": {
    "collapsed": true
   },
   "outputs": [],
   "source": [
    "%matplotlib inline\n",
    "import numpy as np\n",
    "from sympy import *\n",
    "import matplotlib.pyplot as plt\n",
    "from ipywidgets import interact\n",
    "from sympy.abc import x"
   ]
  },
  {
   "cell_type": "code",
   "execution_count": 4,
   "metadata": {
    "collapsed": false
   },
   "outputs": [
    {
     "data": {
      "image/png": "[encoded data removed]",
      "text/plain": [
       "<matplotlib.figure.Figure at 0x10833e748>"
      ]
     },
     "metadata": {},
     "output_type": "display_data"
    }
   ],
   "source": [
    "def tylor_plot(x_U, x_L, y_U, y_L, n, function):\n",
    "    f = lambdify(x, S(function), 'numpy')\n",
    "    g = series(S(function), x, n=int(n)).removeO()\n",
    "    t = np.linspace(x_L, x_U, 1000)\n",
    "    a = f(t)\n",
    "    b = []\n",
    "    for i in t:\n",
    "        b.append(g.subs(x, i))\n",
    "        \n",
    "    plt.axis([x_L,x_U,y_L,y_U])\n",
    "    plt.plot(t, a, 'g', t, b, 'r')\n",
    "\n",
    "interact(tylor_plot, x_U = (-10,10), x_L = (-10,10), y_U = (-10,10), y_L = (-10,10), n = (0,10), function='x**2');"
   ]
  },
  {
   "cell_type": "code",
   "execution_count": null,
   "metadata": {
    "collapsed": true
   },
   "outputs": [],
   "source": []
  }
 ],
 "metadata": {
  "kernelspec": {
   "display_name": "Python 3",
   "language": "python",
   "name": "python3"
  },
  "language_info": {
   "codemirror_mode": {
    "name": "ipython",
    "version": 3
   },
   "file_extension": ".py",
   "mimetype": "text/x-python",
   "name": "python",
   "nbconvert_exporter": "python",
   "pygments_lexer": "ipython3",
   "version": "3.5.2"
  },
  "widgets": {
   "state": {
    "577ab8c03ef341d38cd9de0e0e3e8e57": {
     "views": [
      {
       "cell_index": 1
      }
     ]
    }
   },
   "version": "1.2.0"
  }
 },
 "nbformat": 4,
 "nbformat_minor": 1
}

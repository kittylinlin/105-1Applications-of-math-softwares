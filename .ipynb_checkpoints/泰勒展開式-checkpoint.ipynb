{
 "cells": [
  {
   "cell_type": "code",
   "execution_count": 1,
   "metadata": {
    "collapsed": true
   },
   "outputs": [],
   "source": [
    "from sympy import *"
   ]
  },
  {
   "cell_type": "code",
   "execution_count": 2,
   "metadata": {
    "collapsed": true
   },
   "outputs": [],
   "source": [
    "def taylor():\n",
    "    func = input('Function: ')\n",
    "    var = input('variable: ')\n",
    "    pt = input('expansion point: ')\n",
    "    power = input('power: ')\n",
    "    print(series(S(func), symbols(var), x0 = int(pt), n = int(power)).removeO())"
   ]
  },
  {
   "cell_type": "code",
   "execution_count": 3,
   "metadata": {
    "collapsed": false
   },
   "outputs": [
    {
     "name": "stdout",
     "output_type": "stream",
     "text": [
      "Function: sin(2*x)+3*cos(5*x)\n",
      "variable: x\n",
      "expansion point: 0\n",
      "power: 5\n",
      "625*x**4/8 - 4*x**3/3 - 75*x**2/2 + 2*x + 3\n"
     ]
    }
   ],
   "source": [
    "taylor()"
   ]
  },
  {
   "cell_type": "code",
   "execution_count": null,
   "metadata": {
    "collapsed": true
   },
   "outputs": [],
   "source": []
  }
 ],
 "metadata": {
  "kernelspec": {
   "display_name": "Python 3",
   "language": "python",
   "name": "python3"
  },
  "language_info": {
   "codemirror_mode": {
    "name": "ipython",
    "version": 3
   },
   "file_extension": ".py",
   "mimetype": "text/x-python",
   "name": "python",
   "nbconvert_exporter": "python",
   "pygments_lexer": "ipython3",
   "version": "3.5.2"
  }
 },
 "nbformat": 4,
 "nbformat_minor": 1
}

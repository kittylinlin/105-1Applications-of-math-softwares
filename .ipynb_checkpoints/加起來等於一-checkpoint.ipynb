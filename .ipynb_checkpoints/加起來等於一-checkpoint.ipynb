{
 "cells": [
  {
   "cell_type": "markdown",
   "metadata": {},
   "source": [
    "### Question:  \n",
    "假設現在有五個數字在 nono 這個 list 當中:  \n",
    "$$nono = [x1, x2, x3, x4, x5]$$  \n",
    "你想一個辦法讓 nono 變 yoyo \n",
    "$$yoyo = [y1, y2, y3, y4, y5]$$\n",
    "使得所有 yoyo 的數字都是從 0 到 1 而且  \n",
    "$$y1 + y2 + y3 + y4 + y5 = 1$$\n",
    "  \n",
    "  \n",
    "### Answer:  \n",
    "1.將數列等量加減，使得數列皆為正數  \n",
    "2.將數列等比例縮小至(0,1)區間  \n",
    "3.乘上數列總和倒數，使得數列總和為1"
   ]
  },
  {
   "cell_type": "code",
   "execution_count": 1,
   "metadata": {
    "collapsed": false
   },
   "outputs": [
    {
     "name": "stdout",
     "output_type": "stream",
     "text": [
      "Populating the interactive namespace from numpy and matplotlib\n"
     ]
    }
   ],
   "source": [
    "%pylab inline"
   ]
  },
  {
   "cell_type": "code",
   "execution_count": 2,
   "metadata": {
    "collapsed": true
   },
   "outputs": [],
   "source": [
    "def change(x):\n",
    "    m = min(x)\n",
    "    M = max(x)\n",
    "    if m < 0: #平移到(0,1)\n",
    "        positive = (x - m)/M\n",
    "    else:\n",
    "        positive = x/M\n",
    "    ans = positive*(1/sum(positive)) #等比例縮小\n",
    "    return ans"
   ]
  },
  {
   "cell_type": "code",
   "execution_count": 3,
   "metadata": {
    "collapsed": false
   },
   "outputs": [
    {
     "data": {
      "text/plain": [
       "array([-0.2741449 ,  0.87304394, -1.70725821,  1.0493516 ,  0.04646261,\n",
       "        0.12236719,  0.33527205,  1.38669519, -0.1764751 ,  0.06502602])"
      ]
     },
     "execution_count": 3,
     "metadata": {},
     "output_type": "execute_result"
    }
   ],
   "source": [
    "nono = randn(10)\n",
    "nono"
   ]
  },
  {
   "cell_type": "code",
   "execution_count": 4,
   "metadata": {
    "collapsed": false
   },
   "outputs": [
    {
     "data": {
      "text/plain": [
       "array([ 0.07625814,  0.1373018 ,  0.        ,  0.1466834 ,  0.09331815,\n",
       "        0.09735715,  0.10868614,  0.16463397,  0.0814553 ,  0.09430594])"
      ]
     },
     "execution_count": 4,
     "metadata": {},
     "output_type": "execute_result"
    }
   ],
   "source": [
    "yoyo = change(nono)\n",
    "yoyo"
   ]
  },
  {
   "cell_type": "code",
   "execution_count": 5,
   "metadata": {
    "collapsed": false
   },
   "outputs": [
    {
     "data": {
      "text/plain": [
       "1.0"
      ]
     },
     "execution_count": 5,
     "metadata": {},
     "output_type": "execute_result"
    }
   ],
   "source": [
    "sum(yoyo)"
   ]
  },
  {
   "cell_type": "code",
   "execution_count": null,
   "metadata": {
    "collapsed": true
   },
   "outputs": [],
   "source": []
  }
 ],
 "metadata": {
  "kernelspec": {
   "display_name": "Python 3",
   "language": "python",
   "name": "python3"
  },
  "language_info": {
   "codemirror_mode": {
    "name": "ipython",
    "version": 3
   },
   "file_extension": ".py",
   "mimetype": "text/x-python",
   "name": "python",
   "nbconvert_exporter": "python",
   "pygments_lexer": "ipython3",
   "version": "3.5.2"
  }
 },
 "nbformat": 4,
 "nbformat_minor": 1
}

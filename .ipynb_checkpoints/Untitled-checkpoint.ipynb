{
 "cells": [
  {
   "cell_type": "code",
   "execution_count": 5,
   "metadata": {
    "collapsed": false
   },
   "outputs": [],
   "source": [
    "import random as rn\n",
    "from IPython.display import display, HTML\n",
    "# from ipywidgets.widgets import *\n",
    "from sympy import *"
   ]
  },
  {
   "cell_type": "code",
   "execution_count": 2,
   "metadata": {
    "collapsed": false
   },
   "outputs": [],
   "source": [
    "x = symbols('x')\n",
    "init_printing()"
   ]
  },
  {
   "cell_type": "code",
   "execution_count": 3,
   "metadata": {
    "collapsed": true
   },
   "outputs": [],
   "source": [
    "def make_question():\n",
    "    f = rn.randint(0,5)\n",
    "    for i in range(1,rn.randint(1,5)):\n",
    "        f = f + rn.randint(0,5)*x**i\n",
    "    return f"
   ]
  },
  {
   "cell_type": "code",
   "execution_count": 4,
   "metadata": {
    "collapsed": false
   },
   "outputs": [
    {
     "data": {
      "image/png": "[encoded data removed]",
      "text/latex": [
       "$$x + 3$$"
      ],
      "text/plain": [
       "x + 3"
      ]
     },
     "execution_count": 4,
     "metadata": {},
     "output_type": "execute_result"
    }
   ],
   "source": [
    "g = make_question()\n",
    "g"
   ]
  },
  {
   "cell_type": "code",
   "execution_count": 8,
   "metadata": {
    "collapsed": false
   },
   "outputs": [
    {
     "data": {
      "text/html": [
       "<div>wwww</div>"
      ],
      "text/plain": [
       "<IPython.core.display.HTML object>"
      ]
     },
     "metadata": {},
     "output_type": "display_data"
    }
   ],
   "source": [
    "aa = HTML(\"<div>wwww</div>\")\n",
    "aa.value = \"<p>\"+ latex(g) + \"</p>\"\n",
    "display(aa)"
   ]
  },
  {
   "cell_type": "code",
   "execution_count": 17,
   "metadata": {
    "collapsed": false
   },
   "outputs": [
    {
     "data": {
      "text/plain": [
       "function"
      ]
     },
     "execution_count": 17,
     "metadata": {},
     "output_type": "execute_result"
    }
   ],
   "source": []
  },
  {
   "cell_type": "code",
   "execution_count": null,
   "metadata": {
    "collapsed": false
   },
   "outputs": [],
   "source": [
    "aa.value = \"<p>$\" + latex(\"f(x)=\") +\"$\" + \"</p>\""
   ]
  },
  {
   "cell_type": "code",
   "execution_count": null,
   "metadata": {
    "collapsed": true
   },
   "outputs": [],
   "source": [
    "aa.value = \"<p>www</p>\""
   ]
  },
  {
   "cell_type": "code",
   "execution_count": 7,
   "metadata": {
    "collapsed": false
   },
   "outputs": [
    {
     "data": {
      "text/html": [
       "<p>The answer is: f'(x)=1</p>"
      ],
      "text/plain": [
       "<IPython.core.display.HTML object>"
      ]
     },
     "metadata": {},
     "output_type": "display_data"
    }
   ],
   "source": [
    "display(HTML(\"<p>The answer is: \" + latex(\"f'(x)=\") + latex(diff(g)) +\"</p>\"))"
   ]
  },
  {
   "cell_type": "code",
   "execution_count": null,
   "metadata": {
    "collapsed": true
   },
   "outputs": [],
   "source": []
  },
  {
   "cell_type": "code",
   "execution_count": null,
   "metadata": {
    "collapsed": false
   },
   "outputs": [],
   "source": [
    "style1 = \"<p style='position:relative; left:80px; padding:10px; border-radius:25px; color:white; background:#4080FF; width:300px;'>\"\n",
    "style2 = \"<p style='padding:10px; border-radius:25px; background:#F1F0F0; width:300px;'>\"\n",
    "display(HTML(style1+\"Hi! Let's review some math question!</p> <br>\"))\n",
    "stop = ['bye', 'quit', 'no']\n",
    "ans = [\"don't\", \"answer\"]\n",
    "display(HTML(style1+\"differentiation or integration?</p> <br>\"))\n",
    "mes = input()\n",
    "while not any(i in mes for i in stop):\n",
    "    if 'diff' in mes:\n",
    "        g = make_question()\n",
    "        display(HTML(\"<p>$\" + latex(\"f(x)=\") + latex(g) +\"$</p>\"))\n",
    "        display(HTML(\"<p>Find $\" + latex(\"f'(x)\") + \"$</p>\"))\n",
    "        mes = input('Answer is: ')\n",
    "        while not diff(g).equals(mes):\n",
    "            mes = input('Try again! ')\n",
    "            if any(j in mes for j in ans):\n",
    "                display(HTML(\"<p>The answer is: $\" + latex(\"f'(x)=\") + latex(diff(g)) +\"$</p>\"))\n",
    "                break\n",
    "        if diff(g).equals(mes):\n",
    "            display(HTML(\"<p>Great job!!</p>\"))\n",
    "    elif 'int' in mes:\n",
    "        g = make_question()\n",
    "        display(HTML(\"<p>$\"+ latex(\"f(x)=\") + latex(g) +\"$</p>\"))\n",
    "        display(HTML(\"<p>Find $\" + latex(\"g(x)\") + \"$such that$\" + latex(\"\\int f(x)=g(x)+c\") + \"$</p>\"))\n",
    "        mes = input('Answer is: ')\n",
    "        while not integrate(g).equals(mes):\n",
    "            mes = input('Try again! ')\n",
    "            if any(j in mes for j in ans):\n",
    "                display(HTML(\"<p>The answer is: $\" + latex(\"g(x)=\") + latex(integrate(g)) +\"$</p>\"))\n",
    "                break\n",
    "        if diff(g).equals(mes):\n",
    "            display(HTML(\"<p>Great job!!</p>\"))\n",
    "    else:\n",
    "        mes = input('Do you want to quit? [y/n]')\n",
    "        if mes == 'y':\n",
    "            break\n",
    "    mes = input(\"Do you want to try another one?\")"
   ]
  },
  {
   "cell_type": "code",
   "execution_count": null,
   "metadata": {
    "collapsed": true
   },
   "outputs": [],
   "source": []
  },
  {
   "cell_type": "code",
   "execution_count": null,
   "metadata": {
    "collapsed": true
   },
   "outputs": [],
   "source": [
    "from ipywidgets.widgets import *\n",
    "from IPython.display import display"
   ]
  },
  {
   "cell_type": "code",
   "execution_count": null,
   "metadata": {
    "collapsed": false
   },
   "outputs": [],
   "source": [
    "me = Text(\"輸入訊息...\")\n",
    "me.description = \"輸入\""
   ]
  },
  {
   "cell_type": "code",
   "execution_count": null,
   "metadata": {
    "collapsed": true
   },
   "outputs": [],
   "source": [
    "you = Text(\"sssss...\")\n",
    "you.description = \"輸入\"\n",
    "you.layout.display = 'none'"
   ]
  },
  {
   "cell_type": "code",
   "execution_count": null,
   "metadata": {
    "collapsed": true
   },
   "outputs": [],
   "source": [
    "style1 = \"<p style='position:relative; left:80px; padding:10px; border-radius:25px; color:white; background:#4080FF; width:200px;'>\"\n",
    "style2 = \"<p style='padding:10px; border-radius:25px; background:#F1F0F0; width:200px;'>\""
   ]
  },
  {
   "cell_type": "code",
   "execution_count": null,
   "metadata": {
    "collapsed": true
   },
   "outputs": [],
   "source": [
    "c = HTML(\"<div></div>\")"
   ]
  },
  {
   "cell_type": "code",
   "execution_count": null,
   "metadata": {
    "collapsed": false
   },
   "outputs": [],
   "source": [
    "def pipi(sender):\n",
    "    display(HTML(style1 + me.value + '</p> <br>'))\n",
    "    display(HTML(style2 + '拍拍' + '</p> <br>'))\n",
    "    me.value = ''\n",
    "    me.layout.display = 'none'\n",
    "    you.layout.display = ''"
   ]
  },
  {
   "cell_type": "code",
   "execution_count": null,
   "metadata": {
    "collapsed": true
   },
   "outputs": [],
   "source": [
    "me.on_submit(pipi)"
   ]
  },
  {
   "cell_type": "code",
   "execution_count": null,
   "metadata": {
    "collapsed": false
   },
   "outputs": [],
   "source": [
    "display(me)\n",
    "display(you)"
   ]
  },
  {
   "cell_type": "code",
   "execution_count": null,
   "metadata": {
    "collapsed": true
   },
   "outputs": [],
   "source": []
  },
  {
   "cell_type": "code",
   "execution_count": null,
   "metadata": {
    "collapsed": false
   },
   "outputs": [],
   "source": [
    "from IPython.display import display\n",
    "from IPython.core.display import HTML\n",
    "\n",
    "class buttons(object):\n",
    "    def __init__(self):\n",
    "\n",
    "        self.buttons = []\n",
    "        for i in range(6):\n",
    "\n",
    "            self.buttons.append(Button(description = str(i)))\n",
    "            self.buttons[-1].on_click(self.handle_submit)\n",
    "            self.buttons[-1].margin=20\n",
    "\n",
    "        self.text = Text(value=\"21\")\n",
    "\n",
    "        self.header = HTML(description='',value='<h1> Heading </h1>')\n",
    "        self.everything = VBox([self.header,widgets.HBox((self.buttons)),self.text])\n",
    "        display(self.everything)\n",
    "\n",
    "        #display(HTML(\"<h1> Heading </h1>\"))\n",
    "\n",
    "        #display( widgets.HBox((self.buttons)) )\n",
    "\n",
    "\n",
    "        #display(self.text)\n",
    "\n",
    "    def handle_submit(self, sender):\n",
    "        self.show(int(self.text.value))\n",
    "\n",
    "    def show(self, x=None):\n",
    "        print(1+1)\n",
    "\n",
    "b = buttons()"
   ]
  },
  {
   "cell_type": "code",
   "execution_count": null,
   "metadata": {
    "collapsed": false
   },
   "outputs": [],
   "source": [
    "\n",
    "a = HTML(\"<div>gggaaa</div>\")\n",
    "c = \"<div>gggaaa\"\n",
    "d = \"</div>\"\n",
    "display(a)"
   ]
  },
  {
   "cell_type": "code",
   "execution_count": null,
   "metadata": {
    "collapsed": false
   },
   "outputs": [],
   "source": [
    "a.value = c+\"sss\"+d"
   ]
  },
  {
   "cell_type": "code",
   "execution_count": null,
   "metadata": {
    "collapsed": false
   },
   "outputs": [],
   "source": [
    "display(a)"
   ]
  },
  {
   "cell_type": "code",
   "execution_count": null,
   "metadata": {
    "collapsed": false
   },
   "outputs": [],
   "source": [
    "s = \"<div>aaasss</div>\"\n",
    "a = \"</div>\"\n",
    "s.strip(a)"
   ]
  },
  {
   "cell_type": "code",
   "execution_count": null,
   "metadata": {
    "collapsed": false
   },
   "outputs": [],
   "source": [
    "s = s[:-6]\n",
    "s"
   ]
  },
  {
   "cell_type": "code",
   "execution_count": null,
   "metadata": {
    "collapsed": false
   },
   "outputs": [],
   "source": [
    "me = Text(\"輸入訊息...\")\n",
    "me.description = \"輸入\"\n",
    "me.send('ipi')\n",
    "display(me)"
   ]
  },
  {
   "cell_type": "code",
   "execution_count": 1,
   "metadata": {
    "collapsed": false
   },
   "outputs": [],
   "source": [
    "import ipywidgets as widgets"
   ]
  },
  {
   "cell_type": "code",
   "execution_count": 3,
   "metadata": {
    "collapsed": true
   },
   "outputs": [],
   "source": [
    "k = widgets.Label(\n",
    "value=\"$$\\\\frac{n!}{k!(n-k)!} = \\\\binom{n}{k}$$\",\n",
    "              placeholder='Some LaTeX',\n",
    "              description='Some LaTeX',\n",
    "              disabled=False\n",
    ")"
   ]
  },
  {
   "cell_type": "code",
   "execution_count": 6,
   "metadata": {
    "collapsed": false
   },
   "outputs": [],
   "source": [
    "display(k)"
   ]
  },
  {
   "cell_type": "code",
   "execution_count": null,
   "metadata": {
    "collapsed": true
   },
   "outputs": [],
   "source": []
  }
 ],
 "metadata": {
  "kernelspec": {
   "display_name": "Python 3",
   "language": "python",
   "name": "python3"
  },
  "language_info": {
   "codemirror_mode": {
    "name": "ipython",
    "version": 3
   },
   "file_extension": ".py",
   "mimetype": "text/x-python",
   "name": "python",
   "nbconvert_exporter": "python",
   "pygments_lexer": "ipython3",
   "version": "3.5.2"
  },
  "widgets": {
   "state": {
    "1e17d023005c43f0adc818fbfb024339": {
     "views": [
      {
       "cell_index": 29
      }
     ]
    }
   },
   "version": "1.2.0"
  }
 },
 "nbformat": 4,
 "nbformat_minor": 1
}

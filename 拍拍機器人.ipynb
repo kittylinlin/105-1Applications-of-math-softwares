{
 "cells": [
  {
   "cell_type": "code",
   "execution_count": null,
   "metadata": {
    "collapsed": true
   },
   "outputs": [],
   "source": [
    "print('～～～拍拍上線中～～～')\n",
    "messange = input()\n",
    "while messange != '掰～':\n",
    "    if messange == '嗨嗨！':\n",
    "        messange = input('\\t拍拍：哈囉！我只能陪你聊一下下～\\n')\n",
    "    elif messange == '我今天有練習打code耶！':\n",
    "        messange = input('\\t拍拍：厲害喲！什麼程式呀？\\n')\n",
    "    elif messange == 'python呀！':\n",
    "        messange = input('\\t拍拍：哇！好程式耶！\\n')\n",
    "    elif messange == '可是有點難耶～':\n",
    "        messange = input('\\t拍拍：沒關係～找時間找蔡炎龍老師呀！\\n')\n",
    "    elif messange == '我不敢～':\n",
    "        messange = input('\\t拍拍：老師人很好的！\\n')\n",
    "    elif messange == '好！我會的！謝謝你陪我聊～':\n",
    "        messange = input('\\t拍拍：不會啦！加油！！\\n')\n",
    "print('\\t拍拍：掰囉～～')\n",
    "print('～～～拍拍離線～～～')"
   ]
  }
 ],
 "metadata": {
  "kernelspec": {
   "display_name": "Python 3",
   "language": "python",
   "name": "python3"
  },
  "language_info": {
   "codemirror_mode": {
    "name": "ipython",
    "version": 3
   },
   "file_extension": ".py",
   "mimetype": "text/x-python",
   "name": "python",
   "nbconvert_exporter": "python",
   "pygments_lexer": "ipython3",
   "version": "3.5.2"
  }
 },
 "nbformat": 4,
 "nbformat_minor": 1
}

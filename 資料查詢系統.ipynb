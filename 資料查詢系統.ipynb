{
 "cells": [
  {
   "cell_type": "code",
   "execution_count": 1,
   "metadata": {
    "collapsed": true
   },
   "outputs": [],
   "source": [
    "%matplotlib inline\n",
    "import numpy as np\n",
    "import matplotlib.pyplot as plt\n",
    "import pandas as pd\n",
    "from ipywidgets import interact_manual"
   ]
  },
  {
   "cell_type": "code",
   "execution_count": 2,
   "metadata": {
    "collapsed": true
   },
   "outputs": [],
   "source": [
    "df = pd.read_csv(\"grades.csv\")"
   ]
  },
  {
   "cell_type": "code",
   "execution_count": 3,
   "metadata": {
    "collapsed": false
   },
   "outputs": [],
   "source": [
    "df[\"總分\"] = df.國文+df.英文+df.數學+df.自然+df.社會"
   ]
  },
  {
   "cell_type": "code",
   "execution_count": 4,
   "metadata": {
    "collapsed": false
   },
   "outputs": [
    {
     "data": {
      "text/html": [
       "<div>\n",
       "<table border=\"1\" class=\"dataframe\">\n",
       "  <thead>\n",
       "    <tr style=\"text-align: right;\">\n",
       "      <th></th>\n",
       "      <th>國文</th>\n",
       "      <th>英文</th>\n",
       "      <th>數學</th>\n",
       "      <th>自然</th>\n",
       "      <th>社會</th>\n",
       "      <th>總分</th>\n",
       "    </tr>\n",
       "  </thead>\n",
       "  <tbody>\n",
       "    <tr>\n",
       "      <th>底標</th>\n",
       "      <td>9.0</td>\n",
       "      <td>8.88</td>\n",
       "      <td>9.0</td>\n",
       "      <td>8.0</td>\n",
       "      <td>9.0</td>\n",
       "      <td>51.00</td>\n",
       "    </tr>\n",
       "    <tr>\n",
       "      <th>後標</th>\n",
       "      <td>9.0</td>\n",
       "      <td>9.00</td>\n",
       "      <td>10.0</td>\n",
       "      <td>9.0</td>\n",
       "      <td>9.0</td>\n",
       "      <td>54.75</td>\n",
       "    </tr>\n",
       "    <tr>\n",
       "      <th>均標</th>\n",
       "      <td>11.0</td>\n",
       "      <td>11.00</td>\n",
       "      <td>11.0</td>\n",
       "      <td>11.0</td>\n",
       "      <td>12.0</td>\n",
       "      <td>57.00</td>\n",
       "    </tr>\n",
       "    <tr>\n",
       "      <th>前標</th>\n",
       "      <td>13.0</td>\n",
       "      <td>13.00</td>\n",
       "      <td>14.0</td>\n",
       "      <td>13.0</td>\n",
       "      <td>14.0</td>\n",
       "      <td>60.00</td>\n",
       "    </tr>\n",
       "    <tr>\n",
       "      <th>頂標</th>\n",
       "      <td>14.0</td>\n",
       "      <td>14.00</td>\n",
       "      <td>15.0</td>\n",
       "      <td>14.0</td>\n",
       "      <td>15.0</td>\n",
       "      <td>64.00</td>\n",
       "    </tr>\n",
       "  </tbody>\n",
       "</table>\n",
       "</div>"
      ],
      "text/plain": [
       "      國文     英文    數學    自然    社會     總分\n",
       "底標   9.0   8.88   9.0   8.0   9.0  51.00\n",
       "後標   9.0   9.00  10.0   9.0   9.0  54.75\n",
       "均標  11.0  11.00  11.0  11.0  12.0  57.00\n",
       "前標  13.0  13.00  14.0  13.0  14.0  60.00\n",
       "頂標  14.0  14.00  15.0  14.0  15.0  64.00"
      ]
     },
     "execution_count": 4,
     "metadata": {},
     "output_type": "execute_result"
    }
   ],
   "source": [
    "data = {\"國文\" : [df.國文.quantile(.12),df.國文.quantile(.25),df.國文.quantile(),df.國文.quantile(.75),df.國文.quantile(.88)],\n",
    "        \"英文\" : [df.英文.quantile(.12),df.英文.quantile(.25),df.英文.quantile(),df.英文.quantile(.75),df.英文.quantile(.88)],\n",
    "        \"數學\" : [df.數學.quantile(.12),df.數學.quantile(.25),df.數學.quantile(),df.數學.quantile(.75),df.數學.quantile(.88)],\n",
    "        \"自然\" : [df.自然.quantile(.12),df.自然.quantile(.25),df.自然.quantile(),df.自然.quantile(.75),df.自然.quantile(.88)],\n",
    "        \"社會\" : [df.社會.quantile(.12),df.社會.quantile(.25),df.社會.quantile(),df.社會.quantile(.75),df.社會.quantile(.88)],\n",
    "        \"總分\" : [df.總分.quantile(.12),df.總分.quantile(.25),df.總分.quantile(),df.總分.quantile(.75),df.總分.quantile(.88)]}\n",
    "df1 = pd.DataFrame(data, index=[\"底標\",\"後標\",\"均標\",\"前標\",\"頂標\"], columns=[\"國文\",\"英文\",\"數學\",\"自然\",\"社會\",\"總分\"])\n",
    "df1"
   ]
  },
  {
   "cell_type": "code",
   "execution_count": 5,
   "metadata": {
    "collapsed": false
   },
   "outputs": [],
   "source": [
    "def find(搜尋):\n",
    "    \n",
    "    ax1 = plt.subplot2grid((1,5), (0,0), colspan=3)\n",
    "    plt.boxplot([df.國文,df.英文,df.數學,df.自然,df.社會],showmeans=True)\n",
    "    ax = plt.gca()\n",
    "    ax.set_xticklabels(['Chinese', 'English', 'Math', 'Science','Society'])\n",
    "    \n",
    "    ax2 = plt.subplot2grid((1,5), (0,4), colspan=1)\n",
    "    plt.boxplot([df.總分],showmeans=True)\n",
    "    ax = plt.gca()\n",
    "    ax.set_xticklabels(['Total'])\n",
    "    \n",
    "    return df[df.姓名 == 搜尋]"
   ]
  },
  {
   "cell_type": "code",
   "execution_count": 6,
   "metadata": {
    "collapsed": false
   },
   "outputs": [
    {
     "data": {
      "text/html": [
       "<div>\n",
       "<table border=\"1\" class=\"dataframe\">\n",
       "  <thead>\n",
       "    <tr style=\"text-align: right;\">\n",
       "      <th></th>\n",
       "      <th>姓名</th>\n",
       "      <th>國文</th>\n",
       "      <th>英文</th>\n",
       "      <th>數學</th>\n",
       "      <th>自然</th>\n",
       "      <th>社會</th>\n",
       "      <th>總分</th>\n",
       "    </tr>\n",
       "  </thead>\n",
       "  <tbody>\n",
       "    <tr>\n",
       "      <th>19</th>\n",
       "      <td>葉曉玲</td>\n",
       "      <td>14</td>\n",
       "      <td>9</td>\n",
       "      <td>11</td>\n",
       "      <td>15</td>\n",
       "      <td>9</td>\n",
       "      <td>58</td>\n",
       "    </tr>\n",
       "  </tbody>\n",
       "</table>\n",
       "</div>"
      ],
      "text/plain": [
       "     姓名  國文  英文  數學  自然  社會  總分\n",
       "19  葉曉玲  14   9  11  15   9  58"
      ]
     },
     "metadata": {},
     "output_type": "display_data"
    },
    {
     "data": {
      "image/png": "[encoded data removed]",
      "text/plain": [
       "<matplotlib.figure.Figure at 0x107280f98>"
      ]
     },
     "metadata": {},
     "output_type": "display_data"
    }
   ],
   "source": [
    "interact_manual(find, 搜尋=\"姓名\");"
   ]
  },
  {
   "cell_type": "code",
   "execution_count": 50,
   "metadata": {
    "collapsed": false
   },
   "outputs": [],
   "source": [
    "import pandas as pd\n",
    "df = pd.read_csv(\"grades.csv\")"
   ]
  },
  {
   "cell_type": "code",
   "execution_count": 51,
   "metadata": {
    "collapsed": false
   },
   "outputs": [
    {
     "data": {
      "text/plain": [
       "(100, 6)"
      ]
     },
     "execution_count": 51,
     "metadata": {},
     "output_type": "execute_result"
    }
   ],
   "source": [
    "df.shape"
   ]
  },
  {
   "cell_type": "code",
   "execution_count": null,
   "metadata": {
    "collapsed": true
   },
   "outputs": [],
   "source": []
  }
 ],
 "metadata": {
  "kernelspec": {
   "display_name": "Python 3",
   "language": "python",
   "name": "python3"
  },
  "language_info": {
   "codemirror_mode": {
    "name": "ipython",
    "version": 3
   },
   "file_extension": ".py",
   "mimetype": "text/x-python",
   "name": "python",
   "nbconvert_exporter": "python",
   "pygments_lexer": "ipython3",
   "version": "3.5.2"
  },
  "widgets": {
   "state": {
    "4b89d12b9d604cedb348b63b5474118c": {
     "views": [
      {
       "cell_index": 5
      }
     ]
    }
   },
   "version": "1.2.0"
  }
 },
 "nbformat": 4,
 "nbformat_minor": 1
}

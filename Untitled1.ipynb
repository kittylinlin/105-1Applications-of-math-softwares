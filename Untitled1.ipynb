{
 "cells": [
  {
   "cell_type": "code",
   "execution_count": 1,
   "metadata": {
    "collapsed": true
   },
   "outputs": [],
   "source": [
    "%matplotlib inline\n",
    "import numpy as np\n",
    "import matplotlib.pyplot as plt\n",
    "import pandas as pd"
   ]
  },
  {
   "cell_type": "code",
   "execution_count": 2,
   "metadata": {
    "collapsed": true
   },
   "outputs": [],
   "source": [
    "from sympy import *"
   ]
  },
  {
   "cell_type": "code",
   "execution_count": 5,
   "metadata": {
    "collapsed": true
   },
   "outputs": [],
   "source": [
    "def guess_number():\n",
    "    u = 100\n",
    "    l = 1\n",
    "    ans = np.random.randint(1,101)\n",
    "    guess = int(input('please guess a number between 1 and 100: '))\n",
    "    while guess!=ans:\n",
    "        if guess > ans:\n",
    "            u = guess\n",
    "            guess = int(input('it is too big, please guess a number between %d and %d: ' %(l,u)))\n",
    "        else:\n",
    "            l = guess\n",
    "            guess = int(input('it is too small, please guess a number between %d and %d: ' %(l,u)))\n",
    "    print('Bingo!')"
   ]
  },
  {
   "cell_type": "code",
   "execution_count": 6,
   "metadata": {
    "collapsed": false
   },
   "outputs": [
    {
     "name": "stdout",
     "output_type": "stream",
     "text": [
      "please guess a number between 1 and 100: 50\n",
      "it is too small, please guess a number between 50 and 100: 60\n",
      "it is too small, please guess a number between 60 and 100: 70\n",
      "it is too small, please guess a number between 70 and 100: 90\n",
      "it is too small, please guess a number between 90 and 100: 95\n",
      "it is too big, please guess a number between 90 and 95: 93\n",
      "it is too big, please guess a number between 90 and 93: 92\n",
      "it is too big, please guess a number between 90 and 92: 91\n",
      "Bingo!\n"
     ]
    }
   ],
   "source": [
    "guess_number()"
   ]
  },
  {
   "cell_type": "code",
   "execution_count": 10,
   "metadata": {
    "collapsed": false
   },
   "outputs": [
    {
     "data": {
      "text/plain": [
       "4"
      ]
     },
     "execution_count": 10,
     "metadata": {},
     "output_type": "execute_result"
    }
   ],
   "source": [
    "np.random.choice(range(0,10))"
   ]
  },
  {
   "cell_type": "code",
   "execution_count": 13,
   "metadata": {
    "collapsed": false
   },
   "outputs": [
    {
     "data": {
      "text/plain": [
       "False"
      ]
     },
     "execution_count": 13,
     "metadata": {},
     "output_type": "execute_result"
    }
   ],
   "source": [
    "[1,2] == [1,1]"
   ]
  },
  {
   "cell_type": "code",
   "execution_count": 17,
   "metadata": {
    "collapsed": true
   },
   "outputs": [],
   "source": [
    "def A_B():\n",
    "    ans = []\n",
    "    guess = []\n",
    "    for i in range(4):\n",
    "        ans.append(np.random.choice(range(0,10)))\n",
    "    temp = input('please input four numbers: ')\n",
    "    for i in range(4):\n",
    "        guess.append(int(temp[i]))\n",
    "    print(ans)\n",
    "    while ans != guess:\n",
    "        A = 0\n",
    "        B = 0\n",
    "        for i in range(4):\n",
    "            if ans[i] == guess[i]:\n",
    "                A = A + 1\n",
    "            elif ans[i] in guess:\n",
    "                B = B + 1\n",
    "        print('%dA %dB' %(A,B))\n",
    "        temp = input('please input four numbers: ')\n",
    "        for i in range(4):\n",
    "            guess[i] = int(temp[i])\n",
    "    print('Bingo!')"
   ]
  },
  {
   "cell_type": "code",
   "execution_count": 18,
   "metadata": {
    "collapsed": false
   },
   "outputs": [
    {
     "name": "stdout",
     "output_type": "stream",
     "text": [
      "please input four numbers: 1234\n",
      "[0, 3, 5, 4]\n",
      "1A 1B\n",
      "please input four numbers: 0355\n",
      "3A 0B\n",
      "please input four numbers: 0345\n",
      "2A 2B\n",
      "please input four numbers: 0354\n"
     ]
    }
   ],
   "source": [
    "A_B()"
   ]
  },
  {
   "cell_type": "code",
   "execution_count": 20,
   "metadata": {
    "collapsed": false
   },
   "outputs": [
    {
     "data": {
      "text/plain": [
       "0"
      ]
     },
     "execution_count": 20,
     "metadata": {},
     "output_type": "execute_result"
    }
   ],
   "source": [
    "12//100"
   ]
  },
  {
   "cell_type": "code",
   "execution_count": 25,
   "metadata": {
    "collapsed": true
   },
   "outputs": [],
   "source": [
    "def life_code():\n",
    "    code = input('please enter your birthday(YYYYMMDD): ')\n",
    "    while len(code) > 1:\n",
    "        n = len(code)\n",
    "        temp = 0\n",
    "        for i in range(n):\n",
    "            temp = temp + int(code[i])\n",
    "        code = str(temp)\n",
    "    print('your life code is %s' %(code))"
   ]
  },
  {
   "cell_type": "code",
   "execution_count": 27,
   "metadata": {
    "collapsed": false
   },
   "outputs": [
    {
     "name": "stdout",
     "output_type": "stream",
     "text": [
      "please enter your birthday(YYYYMMDD): 22222222\n",
      "your life code is 7\n"
     ]
    }
   ],
   "source": [
    "life_code()"
   ]
  },
  {
   "cell_type": "code",
   "execution_count": 38,
   "metadata": {
    "collapsed": true
   },
   "outputs": [],
   "source": [
    "students = [\"吳又諭\", \"鄧麗雲\", \"林素來\", \"陳茂辰\", \"楊文傑\", \"黃依傑\", \"陳姵發\", \"龔姿伶\", \"陳德利\", \"潘秀慧\"]"
   ]
  },
  {
   "cell_type": "code",
   "execution_count": 39,
   "metadata": {
    "collapsed": true
   },
   "outputs": [],
   "source": [
    "def choose():\n",
    "    while len(students) > 0:\n",
    "        input('press enter to continue')\n",
    "        stu = np.random.choice(students)\n",
    "        print(stu)\n",
    "        students.remove(stu)"
   ]
  },
  {
   "cell_type": "code",
   "execution_count": 40,
   "metadata": {
    "collapsed": false
   },
   "outputs": [
    {
     "name": "stdout",
     "output_type": "stream",
     "text": [
      "press enter to continue\n",
      "潘秀慧\n",
      "press enter to continue\n",
      "龔姿伶\n",
      "press enter to continue\n",
      "吳又諭\n",
      "press enter to continue\n",
      "黃依傑\n",
      "press enter to continue\n",
      "林素來\n",
      "press enter to continue\n",
      "陳姵發\n",
      "press enter to continue\n",
      "鄧麗雲\n",
      "press enter to continue\n",
      "陳德利\n",
      "press enter to continue\n",
      "陳茂辰\n",
      "press enter to continue\n",
      "楊文傑\n"
     ]
    }
   ],
   "source": [
    "choose()"
   ]
  },
  {
   "cell_type": "code",
   "execution_count": 46,
   "metadata": {
    "collapsed": false
   },
   "outputs": [],
   "source": [
    "def random_walk():\n",
    "    s = [0]\n",
    "    for i in range(500):\n",
    "        s.append(s[i]+np.random.choice([-1,1]))\n",
    "    s = np.array(s)\n",
    "    plt.plot(s)"
   ]
  },
  {
   "cell_type": "code",
   "execution_count": 47,
   "metadata": {
    "collapsed": false
   },
   "outputs": [
    {
     "data": {
      "image/png": "[encoded data removed]",
      "text/plain": [
       "<matplotlib.figure.Figure at 0x108c949b0>"
      ]
     },
     "metadata": {},
     "output_type": "display_data"
    }
   ],
   "source": [
    "random_walk()"
   ]
  },
  {
   "cell_type": "code",
   "execution_count": 49,
   "metadata": {
    "collapsed": false
   },
   "outputs": [
    {
     "data": {
      "text/html": [
       "<img src=\"http://imgur.com/C3Q4xVx\">"
      ],
      "text/plain": [
       "<IPython.core.display.HTML object>"
      ]
     },
     "metadata": {},
     "output_type": "display_data"
    }
   ],
   "source": [
    "from IPython.display import display,HTML\n",
    "pig = HTML('<img src=\"http://imgur.com/C3Q4xVx\">')\n",
    "display(pig)"
   ]
  },
  {
   "cell_type": "code",
   "execution_count": 78,
   "metadata": {
    "collapsed": true
   },
   "outputs": [],
   "source": [
    "def clap():\n",
    "    aud = input('please enter a valid eud: ')\n",
    "    n = len(aud)\n",
    "    a = 0\n",
    "    if n==3:\n",
    "        print('%d' %(a))\n",
    "    else:\n",
    "        b = int(aud[2])\n",
    "        for i in range(3,n):\n",
    "            if int(aud[i]) > 0:\n",
    "                if a+b < i-2:\n",
    "                    a = a + ((i-2)-(a+b))\n",
    "            b = a + b + int(aud[i])\n",
    "        print(a)"
   ]
  },
  {
   "cell_type": "code",
   "execution_count": 80,
   "metadata": {
    "collapsed": false
   },
   "outputs": [
    {
     "name": "stdout",
     "output_type": "stream",
     "text": [
      "please enter a valid eud: 2 009\n",
      "2\n"
     ]
    }
   ],
   "source": [
    "clap()"
   ]
  },
  {
   "cell_type": "code",
   "execution_count": 57,
   "metadata": {
    "collapsed": false
   },
   "outputs": [
    {
     "data": {
      "text/plain": [
       "[1, 2]"
      ]
     },
     "execution_count": 57,
     "metadata": {},
     "output_type": "execute_result"
    }
   ],
   "source": [
    "list(range(1,3))"
   ]
  },
  {
   "cell_type": "code",
   "execution_count": null,
   "metadata": {
    "collapsed": true
   },
   "outputs": [],
   "source": []
  }
 ],
 "metadata": {
  "kernelspec": {
   "display_name": "Python 3",
   "language": "python",
   "name": "python3"
  },
  "language_info": {
   "codemirror_mode": {
    "name": "ipython",
    "version": 3
   },
   "file_extension": ".py",
   "mimetype": "text/x-python",
   "name": "python",
   "nbconvert_exporter": "python",
   "pygments_lexer": "ipython3",
   "version": "3.5.2"
  }
 },
 "nbformat": 4,
 "nbformat_minor": 1
}

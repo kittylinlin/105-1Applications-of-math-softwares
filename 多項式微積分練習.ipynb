{
 "cells": [
  {
   "cell_type": "code",
   "execution_count": 10,
   "metadata": {
    "collapsed": true
   },
   "outputs": [],
   "source": [
    "import random as rn\n",
    "from IPython.display import display, Latex\n",
    "from sympy import *\n",
    "from ipywidgets.widgets import *"
   ]
  },
  {
   "cell_type": "code",
   "execution_count": 11,
   "metadata": {
    "collapsed": true
   },
   "outputs": [],
   "source": [
    "x = symbols('x')\n",
    "init_printing()"
   ]
  },
  {
   "cell_type": "code",
   "execution_count": 12,
   "metadata": {
    "collapsed": true
   },
   "outputs": [],
   "source": [
    "content = HTML(\"<div></div>\")\n",
    "\n",
    "style1 = \"<p style='padding:10px; border-radius:25px; background:#F1F0F0; width:350px;'>\"\n",
    "style2 = \"<p style='position:relative; left:80px; padding:10px; border-radius:25px; color:white; background:#4080FF; width:350px;'>\"\n",
    "\n",
    "content.value = content.value[:-6] + style1 + (\"Hi! Let's review some math questions!\") + \"</p> <br> </div>\"\n",
    "content.value = content.value[:-6] + style1 + (\"Say bye whenever you want to quit\") + \"</p> <br> </div>\"\n",
    "content.value = content.value[:-6] + style1 + (\"differentiation or integration?\") + \"</p> <br> </div>\"\n",
    "\n",
    "f = 0"
   ]
  },
  {
   "cell_type": "code",
   "execution_count": 13,
   "metadata": {
    "collapsed": true
   },
   "outputs": [],
   "source": [
    "def make_question():\n",
    "    f = rn.randint(0,5)\n",
    "    for i in range(1,rn.randint(1,10)):\n",
    "        f = f + rn.randint(0,5)*x**i\n",
    "    return f"
   ]
  },
  {
   "cell_type": "code",
   "execution_count": 14,
   "metadata": {
    "collapsed": false
   },
   "outputs": [],
   "source": [
    "def diffe_inte(sender):\n",
    "    content.value = content.value[:-6] + style2 + (text1.value) + \"</p> <br> </div>\"\n",
    "    global f\n",
    "    f = make_question()\n",
    "    \n",
    "    if \"diff\" in text1.value:\n",
    "        content.value = content.value[:-6] + style1 + (\"$\" + latex(\"f(x)=\") + latex(f) +\"$\") + \"</p> <br> </div>\"\n",
    "        content.value = content.value[:-6] + style1 + (\"Find $\" + latex(\"f'(x)=\") + \"$\") + \"</p> <br> </div>\"\n",
    "        \n",
    "        text1.layout.display = 'none' \n",
    "        text2.layout.display = '' \n",
    "        \n",
    "    elif \"int\" in text1.value:\n",
    "        content.value = content.value[:-6] + style1 + (\"$\" + latex(\"f(x)=\") + latex(f) + \"$\") + \"</p> <br> </div>\"\n",
    "        content.value = content.value[:-6] + style1 + (\"Find $\" + latex(\"g(x)\") + \"$ such that $\" + latex(\"\\int f(x)=g(x)+c\") + \"$\") + \"</p> <br> </div>\"\n",
    "        \n",
    "        text1.layout.display = 'none' \n",
    "        text3.layout.display = '' \n",
    "        \n",
    "    elif \"bye\" in text1.value:\n",
    "        content.value = content.value[:-6] + style1 + (\"See you next time!\") + \"</p> <br> </div>\"\n",
    "        text1.close()\n",
    "        text2.close()\n",
    "        text3.close()\n",
    "        \n",
    "    else:\n",
    "        content.value = content.value[:-6] + style1 + (\"differentiation or integration?\") + \"</p> <br> </div>\"\n",
    "        \n",
    "    text1.value = \"\"\n",
    "    \n",
    "def diffe(sender):\n",
    "    global f\n",
    "    content.value = content.value[:-6] + style2 + (text2.value) + \"</p> <br> </div>\"\n",
    "    \n",
    "    if diff(f).equals(text2.value):\n",
    "        content.value = content.value[:-6] + style1 + (\"Great job!!\") + \"</p> <br> </div>\"\n",
    "        \n",
    "        content.value = content.value[:-6] + style1 + (\"differentiation or integration?\") + \"</p> <br> </div>\"\n",
    "        text2.value = \"\"\n",
    "        text2.layout.display = 'none' \n",
    "        text1.layout.display = ''\n",
    "    \n",
    "    elif \"bye\" in text2.value:\n",
    "        content.value = content.value[:-6] + style1 + (\"See you next time!\") + \"</p> <br> </div>\"\n",
    "        text1.close()\n",
    "        text2.close()\n",
    "        text3.close()\n",
    "        \n",
    "    else:\n",
    "        content.value = content.value[:-6] + style1 + (\"The answer is: $\" + latex(\"f'(x)=\") + latex(diff(f)) +\"$\") + \"</p> <br> </div>\" \n",
    "        \n",
    "        content.value = content.value[:-6] + style1 + (\"differentiation or integration?\") + \"</p> <br> </div>\"\n",
    "        text2.value = \"\"\n",
    "        text2.layout.display = 'none' \n",
    "        text1.layout.display = ''\n",
    "\n",
    "def inte(sender):\n",
    "    global f\n",
    "    content.value = content.value[:-6] + style2 + (text3.value) + \"</p> <br> </div>\"\n",
    "    \n",
    "    if integrate(f).equals(text3.value):\n",
    "        content.value = content.value[:-6] + style1 + (\"Great job!!\") + \"</p> <br> </div>\"\n",
    "        \n",
    "        content.value = content.value[:-6] + style1 + (\"differentiation or integration?\") + \"</p> <br> </div>\"\n",
    "        text3.value = \"\"\n",
    "        text3.layout.display = 'none' \n",
    "        text1.layout.display = ''\n",
    "    \n",
    "    elif \"bye\" in text3.value:\n",
    "        content.value = content.value[:-6] + style1 + (\"See you next time!\") + \"</p> <br> </div>\"\n",
    "        text1.close()\n",
    "        text2.close()\n",
    "        text3.close()\n",
    "        \n",
    "    else:\n",
    "        content.value = content.value[:-6] + style1 + (\"The answer is: $\" + latex(\"g(x)=\") + latex(integrate(f)) +\"$\") + \"</p> <br> </div>\"\n",
    "        \n",
    "        content.value = content.value[:-6] + style1 + (\"differentiation or integration?\") + \"</p> <br> </div>\"\n",
    "        text3.value = \"\"\n",
    "        text3.layout.display = 'none' \n",
    "        text1.layout.display = ''"
   ]
  },
  {
   "cell_type": "code",
   "execution_count": 15,
   "metadata": {
    "collapsed": true
   },
   "outputs": [],
   "source": [
    "text1 = Text()\n",
    "text1.description = \"輸入\"\n",
    "text1.on_submit(diffe_inte)"
   ]
  },
  {
   "cell_type": "code",
   "execution_count": 16,
   "metadata": {
    "collapsed": true
   },
   "outputs": [],
   "source": [
    "text2 = Text()\n",
    "text2.description = \"輸入\"\n",
    "text2.layout.display = 'none'\n",
    "text2.on_submit(diffe)"
   ]
  },
  {
   "cell_type": "code",
   "execution_count": 17,
   "metadata": {
    "collapsed": true
   },
   "outputs": [],
   "source": [
    "text3 = Text()\n",
    "text3.description = \"輸入\"\n",
    "text3.layout.display = 'none'\n",
    "text3.on_submit(inte)"
   ]
  },
  {
   "cell_type": "code",
   "execution_count": 18,
   "metadata": {
    "collapsed": false
   },
   "outputs": [],
   "source": [
    "display(content)\n",
    "display(text1)\n",
    "display(text2)\n",
    "display(text3)"
   ]
  },
  {
   "cell_type": "code",
   "execution_count": null,
   "metadata": {
    "collapsed": true
   },
   "outputs": [],
   "source": []
  }
 ],
 "metadata": {
  "kernelspec": {
   "display_name": "Python 3",
   "language": "python",
   "name": "python3"
  },
  "language_info": {
   "codemirror_mode": {
    "name": "ipython",
    "version": 3
   },
   "file_extension": ".py",
   "mimetype": "text/x-python",
   "name": "python",
   "nbconvert_exporter": "python",
   "pygments_lexer": "ipython3",
   "version": "3.5.2"
  },
  "widgets": {
   "state": {
    "0f6a663e1a104681af245732ef3b16e5": {
     "views": [
      {
       "cell_index": 8
      }
     ]
    },
    "3762276dff50466f9fd6db2a863db076": {
     "views": [
      {
       "cell_index": 8
      }
     ]
    },
    "5a7b38a401c14f729607949ded85411b": {
     "views": [
      {
       "cell_index": 8
      }
     ]
    },
    "bad87142675e4e909b775fec6aa0bd6b": {
     "views": [
      {
       "cell_index": 8
      }
     ]
    },
    "d0661ba2f2524335bc59fcb7860b127a": {
     "views": [
      {
       "cell_index": 8
      }
     ]
    },
    "dc7c3a2d567a48b6a0b65849a45bac7f": {
     "views": [
      {
       "cell_index": 8
      }
     ]
    }
   },
   "version": "1.2.0"
  }
 },
 "nbformat": 4,
 "nbformat_minor": 1
}

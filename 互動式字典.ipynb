{
 "cells": [
  {
   "cell_type": "code",
   "execution_count": 1,
   "metadata": {
    "collapsed": true
   },
   "outputs": [],
   "source": [
    "from ipywidgets import interact, interact_manual\n",
    "from IPython.display import display, HTML"
   ]
  },
  {
   "cell_type": "code",
   "execution_count": 2,
   "metadata": {
    "collapsed": true
   },
   "outputs": [],
   "source": [
    "A = {'a':'apple'}"
   ]
  },
  {
   "cell_type": "code",
   "execution_count": 3,
   "metadata": {
    "collapsed": false
   },
   "outputs": [],
   "source": [
    "def f(字典):\n",
    "    print(字典)\n",
    "def g(標籤, 內容):\n",
    "    A[標籤] = 內容\n",
    "    interact(f, 字典 = A);"
   ]
  },
  {
   "cell_type": "code",
   "execution_count": 4,
   "metadata": {
    "collapsed": false
   },
   "outputs": [
    {
     "name": "stdout",
     "output_type": "stream",
     "text": [
      "flies\n"
     ]
    }
   ],
   "source": [
    "interact_manual(g, 標籤 = '', 內容 = '');"
   ]
  },
  {
   "cell_type": "code",
   "execution_count": null,
   "metadata": {
    "collapsed": true
   },
   "outputs": [],
   "source": []
  }
 ],
 "metadata": {
  "kernelspec": {
   "display_name": "Python 3",
   "language": "python",
   "name": "python3"
  },
  "language_info": {
   "codemirror_mode": {
    "name": "ipython",
    "version": 3
   },
   "file_extension": ".py",
   "mimetype": "text/x-python",
   "name": "python",
   "nbconvert_exporter": "python",
   "pygments_lexer": "ipython3",
   "version": "3.5.2"
  },
  "widgets": {
   "state": {
    "01b1051b52314405b72285619517e663": {
     "views": [
      {
       "cell_index": 7
      }
     ]
    },
    "1ca6ea6649a1480e8e9dacb339f97295": {
     "views": [
      {
       "cell_index": 4
      }
     ]
    },
    "1da28c2dcf194f588ab4feedd10a19cd": {
     "views": [
      {
       "cell_index": 4
      }
     ]
    },
    "1e025ddfb5464d9d828dea5ea41f1844": {
     "views": [
      {
       "cell_index": 4
      }
     ]
    },
    "313f66db822442349151c611616dbcb0": {
     "views": [
      {
       "cell_index": 3
      }
     ]
    },
    "3282af214a404aa2bfa1317742aa1aaf": {
     "views": [
      {
       "cell_index": 4
      }
     ]
    },
    "41515f5d646744f2bc35b191749b3589": {
     "views": [
      {
       "cell_index": 4
      }
     ]
    },
    "4417aee1b63e4a2b854bea3b9bc00481": {
     "views": [
      {
       "cell_index": 4
      }
     ]
    },
    "55c70d0cc89b4bf49532637be264545c": {
     "views": [
      {
       "cell_index": 3
      }
     ]
    },
    "5a99439cc6184813b81bdc3a194c79a9": {
     "views": [
      {
       "cell_index": 4
      }
     ]
    },
    "5cc3ae1a78994a229d1bf678cbad8170": {
     "views": [
      {
       "cell_index": 4
      }
     ]
    },
    "6203c54db38b4179b5bbb8c3cd640330": {
     "views": [
      {
       "cell_index": 3
      }
     ]
    },
    "6354012c4016409da2bcf0fbb976cec3": {
     "views": [
      {
       "cell_index": 4
      }
     ]
    },
    "66ff8d45dd2b49329ef241ef01c8f7bf": {
     "views": [
      {
       "cell_index": 6
      }
     ]
    },
    "72317b01773b478bb7bb59d08e9ead4e": {
     "views": [
      {
       "cell_index": 4
      }
     ]
    },
    "926ff12a3ce644558ab03106d2c5c4d2": {
     "views": [
      {
       "cell_index": 4
      }
     ]
    },
    "96c1ef525927411ca461958f28d776b1": {
     "views": [
      {
       "cell_index": 4
      }
     ]
    },
    "9d86c0b19cd642ef81cdce6062c8cf00": {
     "views": [
      {
       "cell_index": 4
      }
     ]
    },
    "a8d65f544dbe48538dba10db4ab03311": {
     "views": [
      {
       "cell_index": 4
      }
     ]
    },
    "ab615c0c19d24582846fa8c6d8c5fbc9": {
     "views": [
      {
       "cell_index": 4
      }
     ]
    },
    "adfc990829ed48198a243cc0aea77589": {
     "views": [
      {
       "cell_index": 4
      }
     ]
    },
    "bceaf26d0c7945498356a546cfca973f": {
     "views": [
      {
       "cell_index": 3
      }
     ]
    },
    "c27cae2f51ce4e9bb29d009fb9de1cdd": {
     "views": [
      {
       "cell_index": 3
      }
     ]
    },
    "c2bdf057aecf4f6f90513df86097bff1": {
     "views": [
      {
       "cell_index": 4
      }
     ]
    },
    "c58ae5551bd5417895092c8dd16093f7": {
     "views": [
      {
       "cell_index": 4
      }
     ]
    },
    "d143d65ce16c431cb50e4295822fa050": {
     "views": [
      {
       "cell_index": 3
      }
     ]
    },
    "d556d51059984db19296bbbae515a58e": {
     "views": [
      {
       "cell_index": 4
      }
     ]
    },
    "d68690417acd48ba8909ad7c0f07ddc0": {
     "views": [
      {
       "cell_index": 3
      }
     ]
    },
    "e5463c95a1b64502b00f1e0203f05a7c": {
     "views": [
      {
       "cell_index": 3
      }
     ]
    },
    "f2b4f18e521b48afac1fa225b343f645": {
     "views": [
      {
       "cell_index": 4
      }
     ]
    },
    "fd8cda5e2a324c609193fc6c1d5e37c8": {
     "views": [
      {
       "cell_index": 4
      }
     ]
    },
    "fe521a7462104af3aeacfab6a5e8f5c6": {
     "views": [
      {
       "cell_index": 3
      }
     ]
    }
   },
   "version": "1.2.0"
  }
 },
 "nbformat": 4,
 "nbformat_minor": 1
}

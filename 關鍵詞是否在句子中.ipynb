{
 "cells": [
  {
   "cell_type": "markdown",
   "metadata": {},
   "source": [
    "## Any function(already exist in python)\n",
    "    def any(iterable):  \n",
    "        for element in iterable:  \n",
    "            if element:  \n",
    "                return True  \n",
    "        return False"
   ]
  },
  {
   "cell_type": "code",
   "execution_count": 1,
   "metadata": {
    "collapsed": false
   },
   "outputs": [
    {
     "name": "stdout",
     "output_type": "stream",
     "text": [
      "今天過得如何呀？還不錯！\n",
      "恩恩～～\n",
      "然後呢？但有件事有點小傷心\n",
      "拍拍～～明天又是新的一天～～\n",
      "然後呢？你讓我更難過了\n",
      "拍拍～～明天又是新的一天～～\n",
      "然後呢？明天見\n",
      "明天聊！\n"
     ]
    }
   ],
   "source": [
    "message = input('今天過得如何呀？')\n",
    "sad = [\"不開心\",\"難過\",\"傷心\"]\n",
    "while message!='不聊了':\n",
    "    if any(i in message for i in sad):\n",
    "        print('拍拍～～看開點～～')\n",
    "    else:\n",
    "        print('恩恩～～')\n",
    "    message = input('然後呢？')\n",
    "print('明天聊！')"
   ]
  },
  {
   "cell_type": "code",
   "execution_count": null,
   "metadata": {
    "collapsed": true
   },
   "outputs": [],
   "source": []
  }
 ],
 "metadata": {
  "kernelspec": {
   "display_name": "Python 3",
   "language": "python",
   "name": "python3"
  },
  "language_info": {
   "codemirror_mode": {
    "name": "ipython",
    "version": 3
   },
   "file_extension": ".py",
   "mimetype": "text/x-python",
   "name": "python",
   "nbconvert_exporter": "python",
   "pygments_lexer": "ipython3",
   "version": "3.5.2"
  }
 },
 "nbformat": 4,
 "nbformat_minor": 1
}

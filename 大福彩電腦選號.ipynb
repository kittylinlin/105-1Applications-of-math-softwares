{
 "cells": [
  {
   "cell_type": "markdown",
   "metadata": {},
   "source": [
    "<h1 style=\"font-family:Microsoft JhengHei;color:#7300e6\">模擬大樂透</h1>\n",
    "<h1 style=\"font-family:fantasy;color:#7300e6\">Lotto Simulator</h1>\n",
    "<ul style=\"color:#b300b3\">\n",
    "<li>試試手氣吧！</li>\n",
    "<li><a herf=\"http://www.taiwanlottery.com.tw/Lotto649/index.asp\">參考台灣大樂透</a></li>\n",
    "</ul>"
   ]
  },
  {
   "cell_type": "code",
   "execution_count": 1,
   "metadata": {
    "collapsed": true
   },
   "outputs": [],
   "source": [
    "import random as rn"
   ]
  },
  {
   "cell_type": "code",
   "execution_count": 2,
   "metadata": {
    "collapsed": true
   },
   "outputs": [],
   "source": [
    "def Lotto(x,y):\n",
    "    temp = 0\n",
    "    for i in range(len(x)):\n",
    "        if int(x[i]) in y[:6]:\n",
    "            temp = temp + 1\n",
    "    if temp == 6:\n",
    "        print('恭喜你中了頭獎！！')\n",
    "    elif temp == 5 and str(y[6]) in x:\n",
    "        print('恭喜你中了貳獎！！')\n",
    "    elif temp == 5:\n",
    "        print('恭喜你中了參獎！！') \n",
    "    elif temp == 4 and str(y[6]) in x:\n",
    "        print('恭喜你中了肆獎！！')\n",
    "    elif temp == 4:\n",
    "        print('恭喜你中了伍獎！！')\n",
    "    elif temp == 3 and str(y[6]) in x:\n",
    "        print('恭喜你中了陸獎！！')\n",
    "    elif temp == 2 and str(y[6]) in x:\n",
    "        print('恭喜你中了柒獎！！')\n",
    "    elif temp == 3:\n",
    "        print('恭喜你中了普獎！！')\n",
    "    else:\n",
    "        print('下次會中獎的！！')"
   ]
  },
  {
   "cell_type": "code",
   "execution_count": 3,
   "metadata": {
    "collapsed": false
   },
   "outputs": [
    {
     "name": "stdout",
     "output_type": "stream",
     "text": [
      "請輸入6個1~40的號碼，並以逗號(半形)分開\n",
      "1,1,1,1,1,1\n",
      "開獎囉！號碼為：[27, 36, 28, 29, 13, 26, 32](最後一碼為特別號)\n",
      "下次會中獎的！！\n"
     ]
    }
   ],
   "source": [
    "num = input('請輸入6個1~40的號碼，並以逗號(半形)分開\\n')\n",
    "cus = num.split(',')\n",
    "robot = rn.sample(list(range(1,41)),7)\n",
    "print('開獎囉！號碼為：%s(最後一碼為特別號)'%(robot))\n",
    "Lotto(cus,robot)"
   ]
  },
  {
   "cell_type": "code",
   "execution_count": null,
   "metadata": {
    "collapsed": true
   },
   "outputs": [],
   "source": []
  }
 ],
 "metadata": {
  "kernelspec": {
   "display_name": "Python 3",
   "language": "python",
   "name": "python3"
  },
  "language_info": {
   "codemirror_mode": {
    "name": "ipython",
    "version": 3
   },
   "file_extension": ".py",
   "mimetype": "text/x-python",
   "name": "python",
   "nbconvert_exporter": "python",
   "pygments_lexer": "ipython3",
   "version": "3.5.2"
  }
 },
 "nbformat": 4,
 "nbformat_minor": 1
}

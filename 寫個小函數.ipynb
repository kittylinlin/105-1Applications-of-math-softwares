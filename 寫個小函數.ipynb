{
 "cells": [
  {
   "cell_type": "markdown",
   "metadata": {},
   "source": [
    "## 撲克牌比大小"
   ]
  },
  {
   "cell_type": "code",
   "execution_count": 1,
   "metadata": {
    "collapsed": false
   },
   "outputs": [],
   "source": [
    "import random as rn"
   ]
  },
  {
   "cell_type": "code",
   "execution_count": 2,
   "metadata": {
    "collapsed": true
   },
   "outputs": [],
   "source": [
    "def change(x):\n",
    "    num = ['1','2','3','4','5','6','7','8','9','10','J','Q','K']\n",
    "    color = ['♣️','♦️','♥️','♠️']\n",
    "    return num[x//4]+color[x%4]"
   ]
  },
  {
   "cell_type": "code",
   "execution_count": 3,
   "metadata": {
    "collapsed": true
   },
   "outputs": [],
   "source": [
    "def big_small(choose, bet, dollar):\n",
    "    c = rn.sample(range(0,52), 2)\n",
    "    a = c[0]\n",
    "    b = c[1]\n",
    "    if a > b:\n",
    "        ans = a\n",
    "    else:\n",
    "        ans = b\n",
    "    if choose == 'A':\n",
    "        choose = a\n",
    "    else:\n",
    "        choose = b\n",
    "    if ans == choose:\n",
    "        dollar = dollar + bet\n",
    "    else:\n",
    "        dollar = dollar - bet\n",
    "    a = change(a)\n",
    "    b = change(b)\n",
    "    return a,b,dollar"
   ]
  },
  {
   "cell_type": "code",
   "execution_count": 4,
   "metadata": {
    "collapsed": false
   },
   "outputs": [
    {
     "name": "stdout",
     "output_type": "stream",
     "text": [
      "＝＝＝＝＝桌上有一副撲克牌＝＝＝＝＝\n",
      "          Ａ和Ｂ各抽一張\n",
      "          1最小，K最大\n",
      "       猜猜誰的牌比較大呢？？\n",
      "       （你有10點可以下注）\n",
      "＝＝＝＝＝＝＝＝＝＝＝＝＝＝＝＝＝＝\n",
      "誰的牌比較大？\tA\n",
      "下注多少呢？\t1\n",
      "Ａ：1♠️\tＢ：Q♣️\n",
      "糟糕！你猜錯了！！\n",
      "損失 1點，累計點數： 9點\n",
      "要繼續嗎？y/n\tn\n",
      "～～～～～～～掰掰囉！～～～～～～～\n"
     ]
    }
   ],
   "source": [
    "print('''＝＝＝＝＝桌上有一副撲克牌＝＝＝＝＝\n",
    "          Ａ和Ｂ各抽一張\n",
    "          1最小，K最大\n",
    "       猜猜誰的牌比較大呢？？\n",
    "       （你有10點可以下注）\n",
    "＝＝＝＝＝＝＝＝＝＝＝＝＝＝＝＝＝＝''')\n",
    "total = 10\n",
    "mes = 'y'\n",
    "while total > 0 and mes=='y':\n",
    "    choose = input('誰的牌比較大？\\t')\n",
    "    bet = input('下注多少呢？\\t')\n",
    "    output = big_small(choose, int(bet), total)\n",
    "    print('Ａ：%s\\tＢ：%s' %(output[0],output[1]))\n",
    "    if output[2] > total:\n",
    "        print('恭喜你猜對了！！')\n",
    "        print('獲得 %d點，累計點數： %d點' %(output[2]-total, output[2]))\n",
    "    else:\n",
    "        print('糟糕！你猜錯了！！')\n",
    "        print('損失 %d點，累計點數： %d點' %(total-output[2], output[2]))\n",
    "    total = output[2]\n",
    "    if total > 0:\n",
    "        mes = input('要繼續嗎？y/n\\t')\n",
    "        if mes == 'y':\n",
    "            print('～～～～～～～繼續吧！～～～～～～～')\n",
    "        else:\n",
    "            print('～～～～～～～掰掰囉！～～～～～～～')\n",
    "    else:\n",
    "        print('～～～～～～～結束囉！～～～～～～～')"
   ]
  },
  {
   "cell_type": "code",
   "execution_count": null,
   "metadata": {
    "collapsed": true
   },
   "outputs": [],
   "source": []
  }
 ],
 "metadata": {
  "kernelspec": {
   "display_name": "Python 3",
   "language": "python",
   "name": "python3"
  },
  "language_info": {
   "codemirror_mode": {
    "name": "ipython",
    "version": 3
   },
   "file_extension": ".py",
   "mimetype": "text/x-python",
   "name": "python",
   "nbconvert_exporter": "python",
   "pygments_lexer": "ipython3",
   "version": "3.5.2"
  }
 },
 "nbformat": 4,
 "nbformat_minor": 1
}
